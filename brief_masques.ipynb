{
 "cells": [
  {
   "cell_type": "code",
   "execution_count": 1,
   "id": "f070afa7",
   "metadata": {},
   "outputs": [],
   "source": [
    "import pandas as pd\n",
    "import numpy as np\n",
    "import os\n",
    "import random\n",
    "import tensorflow as tf\n",
    "import cv2\n",
    "from tensorflow import keras\n",
    "from  matplotlib import pyplot as plt\n",
    "import matplotlib.image as mpimg\n",
    "from keras.utils import np_utils\n",
    "from keras.models import Sequential\n",
    "from keras.layers import Conv2D, MaxPooling2D, Dense, Activation, Flatten, Dropout\n",
    "from keras.preprocessing.image import ImageDataGenerator\n",
    "import seaborn as sns\n",
    "from sklearn import metrics\n",
    "from sklearn.metrics import confusion_matrix"
   ]
  },
  {
   "cell_type": "code",
   "execution_count": 2,
   "id": "f3904783",
   "metadata": {},
   "outputs": [
    {
     "name": "stdout",
     "output_type": "stream",
     "text": [
      "{'without_mask': 0, 'with_mask': 1}\n"
     ]
    }
   ],
   "source": [
    "data_path = r'./Mask_Data' \n",
    "categorie = os.listdir(data_path)\n",
    " \n",
    "labels = [i for i in range(len(categorie))] \n",
    "\n",
    "label_dict = dict(zip(categorie,labels)) \n",
    "\n",
    "print(label_dict) "
   ]
  },
  {
   "cell_type": "code",
   "execution_count": 3,
   "id": "f8ef2694",
   "metadata": {},
   "outputs": [
    {
     "name": "stdout",
     "output_type": "stream",
     "text": [
      "without_mask 0\n",
      "(224, 224, 3)\n"
     ]
    }
   ],
   "source": [
    "data_train, data_test = [], []\n",
    "target_train, target_test = [], []\n",
    "list_img, target =[], []\n",
    "img_size = 224\n",
    "# importer le nom des images des données de train\n",
    "for i in os.listdir('Mask_Data'):\n",
    "     for j in os.listdir(f'Mask_Data/{str(i)}'):\n",
    "            img = cv2.imread(f'Mask_Data/{str(i)}/{j}')\n",
    "            img = cv2.resize(img,(224,224), interpolation = cv2.INTER_AREA) \n",
    "            list_img.append(img)\n",
    "#             target.append(1 if i=='with_mask' else 0)\n",
    "            target.append(label_dict[i])\n",
    "print(os.listdir('Mask_Data')[0], target[0])\n",
    "print(list_img[1].shape)\n",
    "\n",
    " "
   ]
  },
  {
   "cell_type": "code",
   "execution_count": 4,
   "id": "37b0c723",
   "metadata": {},
   "outputs": [],
   "source": [
    "from sklearn.model_selection import train_test_split\n",
    "from sklearn.preprocessing import StandardScaler\n",
    "\n",
    "X=np.array(list_img) \n",
    "y=np.array(target)\n",
    "# Séparer les données en jeu de train et de test\n",
    "X_train, X_test, y_train, y_test = train_test_split(X, y, test_size=0.25, random_state=1)\n",
    "#(training_images, training_labels), (test_images, test_labels) = Mask_Data.load_data()"
   ]
  },
  {
   "cell_type": "code",
   "execution_count": 7,
   "id": "6923e75f",
   "metadata": {},
   "outputs": [
    {
     "name": "stderr",
     "output_type": "stream",
     "text": [
      "2022-03-31 19:24:06.199753: I tensorflow/compiler/jit/xla_cpu_device.cc:41] Not creating XLA devices, tf_xla_enable_xla_devices not set\n",
      "2022-03-31 19:24:06.199998: I tensorflow/core/platform/cpu_feature_guard.cc:142] This TensorFlow binary is optimized with oneAPI Deep Neural Network Library (oneDNN) to use the following CPU instructions in performance-critical operations:  SSE4.1 SSE4.2 AVX AVX2 AVX512F FMA\n",
      "To enable them in other operations, rebuild TensorFlow with the appropriate compiler flags.\n",
      "2022-03-31 19:24:06.201178: I tensorflow/core/common_runtime/process_util.cc:146] Creating new thread pool with default inter op setting: 2. Tune using inter_op_parallelism_threads for best performance.\n"
     ]
    }
   ],
   "source": [
    "from keras.applications.vgg16 import VGG16\n",
    "# Modèle VGG16\n",
    "base_model = VGG16(weights='imagenet', include_top=True) \n",
    "# Freezer les couches du VGG16\n",
    "for layer in base_model.layers: \n",
    "    layer.trainable = False"
   ]
  },
  {
   "cell_type": "code",
   "execution_count": 8,
   "id": "ecd134eb",
   "metadata": {},
   "outputs": [
    {
     "name": "stdout",
     "output_type": "stream",
     "text": [
      "Model: \"sequential\"\n",
      "_________________________________________________________________\n",
      "Layer (type)                 Output Shape              Param #   \n",
      "=================================================================\n",
      "vgg16 (Functional)           (None, 1000)              138357544 \n",
      "_________________________________________________________________\n",
      "flatten (Flatten)            (None, 1000)              0         \n",
      "_________________________________________________________________\n",
      "dense (Dense)                (None, 4096)              4100096   \n",
      "_________________________________________________________________\n",
      "dense_1 (Dense)              (None, 4096)              16781312  \n",
      "_________________________________________________________________\n",
      "dense_2 (Dense)              (None, 2)                 8194      \n",
      "=================================================================\n",
      "Total params: 159,247,146\n",
      "Trainable params: 20,889,602\n",
      "Non-trainable params: 138,357,544\n",
      "_________________________________________________________________\n"
     ]
    }
   ],
   "source": [
    "num_classes = 2\n",
    "\n",
    "model = tf.keras.models.Sequential([\n",
    "    base_model, # Ajout du modèle VGG16\n",
    "    Flatten(), \n",
    "    Dense(4096,activation='relu'),\n",
    "    Dense(4096, activation='relu'),\n",
    "    Dense(num_classes, activation='softmax')   \n",
    "    ])\n",
    "\n",
    "model.summary()"
   ]
  },
  {
   "cell_type": "code",
   "execution_count": 9,
   "id": "f3ab591d",
   "metadata": {},
   "outputs": [],
   "source": [
    "# Compile le modèle\n",
    "model.compile(\n",
    "    loss=\"sparse_categorical_crossentropy\",    #quand il y a plus d'un label(classes)\n",
    "    optimizer=\"Adam\",                #descente de gradient\n",
    "    metrics=[\"accuracy\"])      #performance"
   ]
  },
  {
   "cell_type": "code",
   "execution_count": null,
   "id": "e858c5ef",
   "metadata": {},
   "outputs": [],
   "source": []
  },
  {
   "cell_type": "code",
   "execution_count": 10,
   "id": "7bf9bec2",
   "metadata": {},
   "outputs": [
    {
     "name": "stdout",
     "output_type": "stream",
     "text": [
      "WARNING:tensorflow:`period` argument is deprecated. Please use `save_freq` to specify the frequency in number of batches seen.\n",
      "Epoch 1/5\n"
     ]
    },
    {
     "name": "stderr",
     "output_type": "stream",
     "text": [
      "2022-03-31 19:24:08.006777: I tensorflow/compiler/mlir/mlir_graph_optimization_pass.cc:116] None of the MLIR optimization passes are enabled (registered 2)\n",
      "2022-03-31 19:24:08.026773: I tensorflow/core/platform/profile_utils/cpu_utils.cc:112] CPU Frequency: 2611200000 Hz\n"
     ]
    },
    {
     "name": "stdout",
     "output_type": "stream",
     "text": [
      "36/36 [==============================] - 181s 5s/step - loss: 0.3186 - accuracy: 0.8415 - val_loss: 0.1676 - val_accuracy: 0.9416\n",
      "WARNING:tensorflow:Can save best model only with val_acc available, skipping.\n",
      "WARNING:tensorflow:Early stopping conditioned on metric `val_acc` which is not available. Available metrics are: loss,accuracy,val_loss,val_accuracy\n",
      "Epoch 2/5\n",
      "36/36 [==============================] - 186s 5s/step - loss: 0.0769 - accuracy: 0.9778 - val_loss: 0.1434 - val_accuracy: 0.9549\n",
      "WARNING:tensorflow:Can save best model only with val_acc available, skipping.\n",
      "WARNING:tensorflow:Early stopping conditioned on metric `val_acc` which is not available. Available metrics are: loss,accuracy,val_loss,val_accuracy\n",
      "Epoch 3/5\n",
      "36/36 [==============================] - 185s 5s/step - loss: 0.0645 - accuracy: 0.9818 - val_loss: 0.1696 - val_accuracy: 0.9496\n",
      "WARNING:tensorflow:Can save best model only with val_acc available, skipping.\n",
      "WARNING:tensorflow:Early stopping conditioned on metric `val_acc` which is not available. Available metrics are: loss,accuracy,val_loss,val_accuracy\n",
      "Epoch 4/5\n",
      "36/36 [==============================] - 188s 5s/step - loss: 0.0441 - accuracy: 0.9868 - val_loss: 0.1403 - val_accuracy: 0.9549\n",
      "WARNING:tensorflow:Can save best model only with val_acc available, skipping.\n",
      "WARNING:tensorflow:Early stopping conditioned on metric `val_acc` which is not available. Available metrics are: loss,accuracy,val_loss,val_accuracy\n",
      "Epoch 5/5\n",
      "36/36 [==============================] - 191s 5s/step - loss: 0.0382 - accuracy: 0.9875 - val_loss: 0.1458 - val_accuracy: 0.9655\n",
      "WARNING:tensorflow:Can save best model only with val_acc available, skipping.\n",
      "WARNING:tensorflow:Early stopping conditioned on metric `val_acc` which is not available. Available metrics are: loss,accuracy,val_loss,val_accuracy\n"
     ]
    }
   ],
   "source": [
    "from keras.callbacks import ModelCheckpoint, EarlyStopping\n",
    "\n",
    "checkpoint = ModelCheckpoint(\"vgg16_1.h5\", monitor='val_acc', verbose=1, save_best_only=True, save_weights_only=False, mode='auto', period=1)\n",
    "early = EarlyStopping(monitor='val_acc', min_delta=0, patience=20, verbose=1, mode='auto')\n",
    "\n",
    "history = model.fit(X_train, y_train, epochs=5,validation_data=(X_test, y_test), callbacks=[checkpoint,early])"
   ]
  },
  {
   "cell_type": "code",
   "execution_count": 11,
   "id": "6030c133",
   "metadata": {},
   "outputs": [
    {
     "data": {
      "image/png": "[encoded data removed]",
      "text/plain": [
       "<Figure size 432x288 with 1 Axes>"
      ]
     },
     "metadata": {
      "needs_background": "light"
     },
     "output_type": "display_data"
    }
   ],
   "source": [
    "plt.plot(history.history['val_loss'], label = \"val_loss\")\n",
    "plt.plot(history.history['loss'], label = \"loss\")\n",
    "plt.xlabel('Epoch')\n",
    "plt.ylabel(\"Loss\")\n",
    "plt.legend(loc = \"upper right\")\n",
    "plt.title(\"Loss value by epoch\")\n",
    "\n",
    "plt.show()"
   ]
  },
  {
   "cell_type": "code",
   "execution_count": 12,
   "id": "87d9636c",
   "metadata": {},
   "outputs": [
    {
     "data": {
      "image/png": "[encoded data removed]",
      "text/plain": [
       "<Figure size 432x288 with 1 Axes>"
      ]
     },
     "metadata": {
      "needs_background": "light"
     },
     "output_type": "display_data"
    },
    {
     "name": "stdout",
     "output_type": "stream",
     "text": [
      "12/12 - 46s - loss: 0.1458 - accuracy: 0.9655\n"
     ]
    }
   ],
   "source": [
    "plt.plot(history.history['accuracy'], label='accuracy')\n",
    "plt.plot(history.history['val_accuracy'], label = 'val_accuracy')\n",
    "plt.xlabel('Epoch')\n",
    "plt.ylabel('Accuracy')\n",
    "plt.ylim([0.80, 1])\n",
    "plt.legend(loc='lower right')\n",
    "plt.title(\"Accuracy value by epoch\")\n",
    "\n",
    "plt.show()\n",
    "\n",
    "test_loss, test_acc = model.evaluate(X_test,  y_test, verbose=2)"
   ]
  }
 ],
 "metadata": {
  "kernelspec": {
   "display_name": "Python 3 (ipykernel)",
   "language": "python",
   "name": "python3"
  },
  "language_info": {
   "codemirror_mode": {
    "name": "ipython",
    "version": 3
   },
   "file_extension": ".py",
   "mimetype": "text/x-python",
   "name": "python",
   "nbconvert_exporter": "python",
   "pygments_lexer": "ipython3",
   "version": "3.8.3"
  }
 },
 "nbformat": 4,
 "nbformat_minor": 5
}
